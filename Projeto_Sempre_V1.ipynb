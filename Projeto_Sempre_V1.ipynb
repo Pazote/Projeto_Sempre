{
 "cells": [
  {
   "cell_type": "code",
   "execution_count": 85,
   "metadata": {},
   "outputs": [],
   "source": [
    "# Comandos para Formar o Ambiente Virtual (Terminal)\n",
    "\n",
    "\n",
    "#  Set-ExecutionPolicy -Scope CurrentUser -ExecutionPolicy RemoteSigned\n",
    "#  .\\venv\\Scripts\\Activate.ps1\n",
    "\n",
    "# Instalar biblioteca: pip install (bib)"
   ]
  },
  {
   "cell_type": "code",
   "execution_count": 86,
   "metadata": {},
   "outputs": [],
   "source": [
    "#bibliotecas\n",
    "import math"
   ]
  },
  {
   "cell_type": "code",
   "execution_count": 87,
   "metadata": {},
   "outputs": [],
   "source": [
    "def calcular_secao_transversal(corrente):\n",
    "    if corrente <= 15:\n",
    "        return \"2,5mm²\"\n",
    "    elif 15 < corrente < 24:\n",
    "        return \"4,0mm²\"\n",
    "    elif 24 < corrente < 34:\n",
    "        return \"6,0mm²\"\n",
    "    elif 34 < corrente < 45:\n",
    "        return \"10,0mm²\"\n",
    "    elif 45 < corrente < 64:\n",
    "        return \"16mm²\"\n",
    "    elif 64 < corrente < 84:\n",
    "        return \"25mm²\"\n",
    "    else:\n",
    "        return \"35mm²\""
   ]
  },
  {
   "cell_type": "code",
   "execution_count": 88,
   "metadata": {},
   "outputs": [],
   "source": [
    "#Claculo da corrente\n",
    "def corrente_trifasico():\n",
    "    corrente_nominal_trifasico = (tensao_saida * corrente_saida) / (tensao_entrada * rendimento * fp * math.sqrt(3))\n",
    "    print(\"A corrente nominal de entrada será de: \", round(corrente_nominal_trifasico, 2))\n",
    "\n",
    "    corrente_nominal_trifasico_com_variacao = corrente_nominal_trifasico*(fp + 100)/100\n",
    "    print(\"A corrente nominal de entrada com variação será de: \", round(corrente_nominal_trifasico_com_variacao, 2))\n",
    "\n",
    "    secao = calcular_secao_transversal(corrente_nominal_trifasico_com_variacao)\n",
    "    print(\"A seção transversal do cabo deverá ser de: \", secao)\n",
    "\n",
    "#Monofásico\n",
    "def corrente_monofasico():\n",
    "    corrente_nominal_monofasico = (tensao_saida * corrente_saida) / (tensao_entrada * rendimento * fp)\n",
    "    print(\"A corrente nominal de entrada será de: \", round(corrente_nominal_monofasico, 2))\n",
    "\n",
    "    corrente_nominal_monofasico_variação = (tensao_recarga * 1.05 * corrente_saida) / (rendimento * fp * tensao_entrada * (1 - variacao_rede))\n",
    "    print(\"A corrente nominal de entrada com variação será de: \", round(corrente_nominal_monofasico_variação, 2))\n",
    "\n",
    "    secao = calcular_secao_transversal(corrente_nominal_monofasico_variação)\n",
    "    print(\"A seção transversal do cabo deverá ser de: \", secao)\n"
   ]
  },
  {
   "cell_type": "code",
   "execution_count": 89,
   "metadata": {},
   "outputs": [],
   "source": [
    "#calculo do fator de potencia\n",
    "\n",
    "def calculo_potencia():\n",
    "\n",
    "    potencia_ativa_entrada = (corrente_saida * tensao_recarga) / rendimento\n",
    "    print(\"A potência ativa na entrada é de:\", round(potencia_ativa_entrada, 2))\n",
    "\n",
    "    potencia_aparente_entrada = (potencia_ativa_entrada / 0.7)\n",
    "    print(\"A potência aparente de saida é de:\", round(potencia_aparente_entrada, 2))\n",
    "\n",
    "    potencia_watts_entrada = math.sqrt((potencia_aparente_entrada * potencia_aparente_entrada) - (potencia_ativa_entrada * potencia_ativa_entrada))\n",
    "    print(\"A potência em Watts de entrada é de:\", round(potencia_watts_entrada, 2))\n",
    "\n",
    "\n",
    "    potencia_ativa_saida = (corrente_saida * tensao_recarga) / rendimento\n",
    "    print(\"A potência ativa na saida é de:\", round(potencia_ativa_saida, 2))\n",
    "\n",
    "    potencia_aparente_saida = (potencia_ativa_saida / 0.85)\n",
    "    print(\"A potência aparente de saida é de:\", round(potencia_aparente_saida, 2))\n",
    "\n",
    "    potencia_watts_saida = math.sqrt((potencia_aparente_saida * potencia_aparente_saida) - (potencia_ativa_saida * potencia_ativa_saida))\n",
    "    print(\"A potência em Watts de saida é de:\", round(potencia_watts_saida, 2))\n",
    "\n",
    "    kvar_capacitor = (potencia_watts_entrada - potencia_watts_saida) / 1000\n",
    "    print(\"O Kvar do capacitor é de:\", round(kvar_capacitor, 2))\n",
    "    Kvar_por_capacitor = (kvar_capacitor / 3)\n",
    "    print(\"Kvar por cada Capacitor é de:\", round(Kvar_por_capacitor, 2))\n"
   ]
  },
  {
   "cell_type": "code",
   "execution_count": 90,
   "metadata": {},
   "outputs": [],
   "source": [
    "#Variáveis de entrada\n",
    "sistema_trifasico = \"sim\"\n",
    "tensao_entrada = 220\n",
    "fp = 0.85\n",
    "rendimento = 0.9\n",
    "variacao_rede = 0.2\n",
    "tensao_saida = 125\n",
    "corrente_saida = 75\n",
    "tensao_recarga = 135\n",
    "tensao_flut = 135\n"
   ]
  },
  {
   "cell_type": "code",
   "execution_count": 91,
   "metadata": {},
   "outputs": [],
   "source": [
    "#Calculo do filtro cc\n",
    "\n",
    "\n",
    "\n"
   ]
  },
  {
   "cell_type": "code",
   "execution_count": 92,
   "metadata": {},
   "outputs": [],
   "source": [
    "def run():\n",
    "    corrente_trifasico()\n",
    "    corrente_monofasico()\n",
    "    calculo_potencia()"
   ]
  },
  {
   "cell_type": "code",
   "execution_count": 93,
   "metadata": {},
   "outputs": [
    {
     "name": "stdout",
     "output_type": "stream",
     "text": [
      "A corrente nominal de entrada será de:  32.16\n",
      "A corrente nominal de entrada com variação será de:  32.43\n",
      "A seção transversal do cabo deverá ser de:  6,0mm²\n",
      "A corrente nominal de entrada será de:  55.7\n",
      "A corrente nominal de entrada com variação será de:  78.96\n",
      "A seção transversal do cabo deverá ser de:  25mm²\n",
      "A potência ativa na entrada é de: 11250.0\n",
      "A potência aparente de saida é de: 16071.43\n",
      "A potência em Watts de entrada é de: 11477.3\n",
      "A potência ativa na saida é de: 11250.0\n",
      "A potência aparente de saida é de: 13235.29\n",
      "A potência em Watts de saida é de: 6972.12\n",
      "O Kvar do capacitor é de: 4.51\n",
      "Kvar por cada Capacitor é de: 1.5\n"
     ]
    }
   ],
   "source": [
    "#run\n",
    "\n",
    "run()"
   ]
  }
 ],
 "metadata": {
  "kernelspec": {
   "display_name": "Python 3",
   "language": "python",
   "name": "python3"
  },
  "language_info": {
   "codemirror_mode": {
    "name": "ipython",
    "version": 3
   },
   "file_extension": ".py",
   "mimetype": "text/x-python",
   "name": "python",
   "nbconvert_exporter": "python",
   "pygments_lexer": "ipython3",
   "version": "3.11.1"
  }
 },
 "nbformat": 4,
 "nbformat_minor": 2
}
