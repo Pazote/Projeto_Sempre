{
 "cells": [
  {
   "cell_type": "code",
   "execution_count": 76,
   "metadata": {},
   "outputs": [],
   "source": [
    "# Comandos para Formar o Ambiente Virtual (Terminal)\n",
    "\n",
    "\n",
    "#  Set-ExecutionPolicy -Scope CurrentUser -ExecutionPolicy RemoteSigned\n",
    "#  .\\venv\\Scripts\\Activate.ps1\n",
    "\n",
    "# Instalar biblioteca: pip install (bib)"
   ]
  },
  {
   "cell_type": "code",
   "execution_count": 77,
   "metadata": {},
   "outputs": [],
   "source": [
    "def calcular_secao_transversal(corrente):\n",
    "    if corrente <= 15:\n",
    "        return \"2,5mm²\"\n",
    "    elif 15 < corrente < 24:\n",
    "        return \"4,0mm²\"\n",
    "    elif 24 < corrente < 34:\n",
    "        return \"6,0mm²\"\n",
    "    elif 34 < corrente < 45:\n",
    "        return \"10,0mm²\"\n",
    "    elif 45 < corrente < 64:\n",
    "        return \"16mm²\"\n",
    "    elif 64 < corrente < 84:\n",
    "        return \"25mm²\"\n",
    "    else:\n",
    "        return \"35mm²\""
   ]
  },
  {
   "cell_type": "code",
   "execution_count": 78,
   "metadata": {},
   "outputs": [],
   "source": [
    "#bibliotecas\n",
    "import math"
   ]
  },
  {
   "cell_type": "code",
   "execution_count": 79,
   "metadata": {},
   "outputs": [],
   "source": [
    "#Variáveis de entrada\n",
    "sistema_trifasico = \"sim\"\n",
    "tensao_entrada = 220\n",
    "fp = 0.85\n",
    "rendimento = 0.9\n",
    "variacao_rede = 0.2\n",
    "tensao_saida = 125\n",
    "corrente_saida = 75"
   ]
  },
  {
   "cell_type": "code",
   "execution_count": 80,
   "metadata": {},
   "outputs": [
    {
     "name": "stdout",
     "output_type": "stream",
     "text": [
      "32.16\n",
      "32.43\n",
      "6,0mm²\n"
     ]
    }
   ],
   "source": [
    "#Claculo da corrente\n",
    "#Trifásico\n",
    "corrente_nominal_trifasico = (tensao_saida * corrente_saida) / (tensao_entrada * rendimento * fp * math.sqrt(3))\n",
    "print(round(corrente_nominal_trifasico, 2))\n",
    "\n",
    "corrente_nominal_trifasico_com_variacao = corrente_nominal_trifasico*(fp + 100)/100\n",
    "print(round(corrente_nominal_trifasico_com_variacao, 2))\n",
    "\n",
    "secao = calcular_secao_transversal(corrente_nominal_trifasico_com_variacao)\n",
    "print(secao)\n"
   ]
  },
  {
   "cell_type": "code",
   "execution_count": 81,
   "metadata": {},
   "outputs": [],
   "source": [
    "#Fator de potencia"
   ]
  },
  {
   "cell_type": "code",
   "execution_count": 82,
   "metadata": {},
   "outputs": [],
   "source": [
    "#Calculo do filtro cc"
   ]
  }
 ],
 "metadata": {
  "kernelspec": {
   "display_name": "Python 3",
   "language": "python",
   "name": "python3"
  },
  "language_info": {
   "codemirror_mode": {
    "name": "ipython",
    "version": 3
   },
   "file_extension": ".py",
   "mimetype": "text/x-python",
   "name": "python",
   "nbconvert_exporter": "python",
   "pygments_lexer": "ipython3",
   "version": "3.11.1"
  }
 },
 "nbformat": 4,
 "nbformat_minor": 2
}
